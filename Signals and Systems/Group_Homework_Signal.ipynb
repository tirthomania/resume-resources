import numpy as np
import matplotlib.pyplot as plt

with open('NewHunt_21D070057.dat',"r") as file:
 data = file.read()
 data = data.replace('(','')
 data = data.replace(')','')
with open(r'NewHunt_21D070057.dat',"w+") as file:
  file.write(data)
np_arr = np.loadtxt('NewHunt_21D070057.dat', dtype=complex)

x = np.arange(0,1000,1)

# extract imaginary part
y = [ele.real for ele in np_arr]




with open('NewHunt_21D070072.dat',"r") as file:
 data = file.read()
 data = data.replace('(','')
 data = data.replace(')','')
with open(r'NewHunt_21D070072.dat',"w+") as file:
  file.write(data)
np_arr1 = np.loadtxt('NewHunt_21D070072.dat', dtype=complex)

n = 0
for k in range(0,1000,1):
    if (np_arr1[0] == np_arr[k] and np_arr1[1] == np_arr[k+1] and np_arr1[2] == np_arr[k+2] and np_arr1[3] == np_arr[k+3] and np_arr1[4] == np_arr[k+4]):
            n = k
            break       
        

x1 = np.arange(n,n+1000,1)
# extract imaginary part
y1 = [ele.real for ele in np_arr1]

print(n)
# plot the complex numbers
plt.plot(x1, y1)
# plot the complex numbers
plt.plot(x, y)
plt.show()
